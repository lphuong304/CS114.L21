{
  "nbformat": 4,
  "nbformat_minor": 0,
  "metadata": {
    "accelerator": "GPU",
    "colab": {
      "name": "V4.ipynb",
      "provenance": [],
      "collapsed_sections": [],
      "include_colab_link": true
    },
    "kernelspec": {
      "display_name": "Python 3",
      "name": "python3"
    }
  },
  "cells": [
    {
      "cell_type": "markdown",
      "metadata": {
        "id": "view-in-github",
        "colab_type": "text"
      },
      "source": [
        "<a href=\"https://colab.research.google.com/github/lphuong304/CS114.L21/blob/main/FINAL_PROJECT/Model_Yolov4/V4.ipynb\" target=\"_parent\"><img src=\"https://colab.research.google.com/assets/colab-badge.svg\" alt=\"Open In Colab\"/></a>"
      ]
    },
    {
      "cell_type": "markdown",
      "metadata": {
        "id": "zMnW-OXeL-Bc"
      },
      "source": [
        "<h1 align=\"center\"><b>Đồ án cuối kỳ môn Máy học - CS112.L21</b></h1>\n",
        "<h1 align=\"center\"><b>MÔ HÌNH SIÊU THỊ KHÔNG THU NGÂN TRONG BỐI CẢNH THANH TOÁN ĐIỆN TỬ PHÁT TRIỂN MẠNH (BÀI TOÁN NHẬN DIỆN SẢN PHẨM THƯƠNG MẠI)</b></h1>\n",
        "\n",
        "* Bộ môn: Máy học - CS112.L21\n",
        "* Giảng viên:\n",
        "  * Lê Đình Duy\n",
        "  * Phạm Nguyễn Trường An\n",
        "* Thành viên nhóm:\n",
        "  * Nguyễn Ngọc Lan Phương - 19520227 (Leader)\n",
        "  * Nguyễn Quốc Huy - 19521623\n",
        "  * Hoàng Anh Tú - 19522450\n",
        "\n",
        "* Nguồn: [AlexyAB/darknet](https://github.com/AlexeyAB/darknet)\n",
        "\n",
        "<h1 align=\"center\"><b>PRETRAINED MODEL YOLOV4</b></h1>"
      ]
    },
    {
      "cell_type": "code",
      "metadata": {
        "id": "ojLdW6wQnkrI",
        "colab": {
          "base_uri": "https://localhost:8080/"
        },
        "outputId": "3cf0e0be-1aaf-418b-a22d-aec5fc63fa26"
      },
      "source": [
        "# Liên kết drive\n",
        "from google.colab import drive\n",
        "drive.mount('/content/gdrive')"
      ],
      "execution_count": null,
      "outputs": [
        {
          "output_type": "stream",
          "text": [
            "Mounted at /content/gdrive\n"
          ],
          "name": "stdout"
        }
      ]
    },
    {
      "cell_type": "code",
      "metadata": {
        "id": "drMcU3X8EoW0"
      },
      "source": [
        "#Cập nhật packages\n",
        "!apt-get update\n",
        "!apt-get upgrade"
      ],
      "execution_count": null,
      "outputs": []
    },
    {
      "cell_type": "code",
      "metadata": {
        "id": "0pHnj081n8gT"
      },
      "source": [
        "#Clone code trên github repository AlexeyAB/darknet về để pretrain model    \n",
        "%cd /content/gdrive/MyDrive/v4                            \n",
        "!git clone https://github.com/AlexeyAB/darknet      "
      ],
      "execution_count": null,
      "outputs": []
    },
    {
      "cell_type": "code",
      "metadata": {
        "id": "uOJ79TK5jorx"
      },
      "source": [
        "#Tải bộ datasets train cho model yolov4 của nhóm về\n",
        "%cd /content/gdrive/MyDrive/v4/darknet/data\n",
        "!gdowm --id 1lR2cAsJemZYtYBN-ejEAiLDgy2NKFXV2"
      ],
      "execution_count": null,
      "outputs": []
    },
    {
      "cell_type": "code",
      "metadata": {
        "id": "pRQFT-bHrILE"
      },
      "source": [
        "#giải nén tập data train\n",
        "%cd /content/gdrive/MyDrive/v4/darknet/data\n",
        "!zip -FF data_train.zip --out data_train.zip -fz "
      ],
      "execution_count": null,
      "outputs": []
    },
    {
      "cell_type": "code",
      "metadata": {
        "colab": {
          "base_uri": "https://localhost:8080/"
        },
        "id": "WI8TWtAYyYn_",
        "outputId": "9b688b6a-bb02-4f7a-af67-42490e593683"
      },
      "source": [
        "#kiểm thử số files có trong bộ datasets train - không tính file classes.txt\n",
        "%cd /content/gdrive/MyDrive/v4/darknet/data/data_train\n",
        "!ls |wc -l "
      ],
      "execution_count": null,
      "outputs": [
        {
          "output_type": "stream",
          "text": [
            "/content/gdrive/MyDrive/v4/darknet/data/photoandtxt\n",
            "37990\n"
          ],
          "name": "stdout"
        }
      ]
    },
    {
      "cell_type": "code",
      "metadata": {
        "id": "Hc_nbBMhioA_"
      },
      "source": [
        "#Tạo file train.txt và val.txt nhầm chia thành hai folder train/valid theo tỉ lệ 80/20 ngẫu nhiên\n",
        "%cd /content/gdrive/MyDrive/v4/darknet\n",
        "\n",
        "import glob2\n",
        "import math  \n",
        "import os\n",
        "import numpy as np\n",
        "\n",
        "files = []\n",
        "for ext in [\"*.png\", \"*.jpeg\", \"*.jpg\"]:\n",
        "  image_files = glob2.glob(os.path.join(\"data/photoandtxt/\", ext))\n",
        "  files += image_files\n",
        "\n",
        "nb_val = math.floor(len(files)*0.2)\n",
        "rand_idx = np.random.randint(0, len(files), nb_val)\n",
        "\n",
        "# Tạo file train.txt\n",
        "with open(\"/content/gdrive/MyDrive/v4/darknet/train.txt\", \"w\") as f:\n",
        "  for idx in np.arange(len(files)):\n",
        "    if (os.path.exists(files[idx][:-3] + \"txt\")):\n",
        "      f.write(files[idx]+'\\n')\n",
        "      print('done1')\n",
        "\n",
        "# Tạo file vali.txt\n",
        "with open(\"/content/gdrive/MyDrive/v4/darknet/val.txt\", \"w\") as f:\n",
        "  for idx in np.arange(len(files)):\n",
        "    if (idx in rand_idx) and (os.path.exists(files[idx][:-3] + \"txt\")):\n",
        "      f.write(files[idx]+'\\n')\n",
        "      print('done2')"
      ],
      "execution_count": null,
      "outputs": []
    },
    {
      "cell_type": "code",
      "metadata": {
        "id": "6zvDq0Nij_Qe"
      },
      "source": [
        "# Tải file pretrained weights\n",
        "%cd /content/gdrive/MyDrive/v4/darknet\n",
        "!wget https://github.com/AlexeyAB/darknet/releases/download/darknet_yolo_v3_optimal/yolov4.conv.137\n"
      ],
      "execution_count": null,
      "outputs": []
    },
    {
      "cell_type": "code",
      "metadata": {
        "id": "8_DcrOiyydhy"
      },
      "source": [
        "#  Make darknet\n",
        "%cd /content/gdrive/MyDrive/v4/darknet\n",
        "!make clean\n",
        "!make\n",
        "!chmod +x ./darknet"
      ],
      "execution_count": null,
      "outputs": []
    },
    {
      "cell_type": "code",
      "metadata": {
        "id": "iOd6jm47yi2_"
      },
      "source": [
        "#  Train\n",
        "%cd /content/gdrive/MyDrive/v4/darknet/  \n",
        "#!./darknet detector train yolo.data cfg/yolov4-custom.cfg yolov4.conv.137 -dont_show -map       #Train bước đầu.\n",
        "!./darknet detector train yolo.data cfg/yolov4-custom.cfg backup/yolov4-custom_final.weights -dont_show -map   #Train lần tiếp theo\n",
        "\n"
      ],
      "execution_count": null,
      "outputs": []
    }
  ]
}